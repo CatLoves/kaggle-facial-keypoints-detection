{
 "cells": [
  {
   "cell_type": "markdown",
   "metadata": {
    "collapsed": false
   },
   "source": [
    "# Third model: Training specialists\n",
    "## Early stopping, Loading pre-trained model."
   ]
  },
  {
   "cell_type": "code",
   "execution_count": 1,
   "metadata": {
    "collapsed": false
   },
   "outputs": [
    {
     "name": "stderr",
     "output_type": "stream",
     "text": [
      "/Users/alex/anaconda/lib/python3.5/site-packages/theano/tensor/signal/downsample.py:6: UserWarning: downsample module has been moved to the theano.tensor.signal.pool module.\n",
      "  \"downsample module has been moved to the theano.tensor.signal.pool module.\")\n"
     ]
    }
   ],
   "source": [
    "%matplotlib inline\n",
    "\n",
    "import numpy as np\n",
    "import matplotlib\n",
    "matplotlib.use('TkAgg', warn = False)\n",
    "from matplotlib import pyplot\n",
    "from datetime import datetime\n",
    "import os\n",
    "import sys\n",
    "import time\n",
    "\n",
    "from pandas import DataFrame\n",
    "from pandas.io.parsers import read_csv\n",
    "from sklearn.utils import shuffle\n",
    "from sklearn.cross_validation import train_test_split\n",
    "from nolearn.lasagne import BatchIterator\n",
    "import tensorflow as tf"
   ]
  },
  {
   "cell_type": "markdown",
   "metadata": {},
   "source": [
    "## Loading data"
   ]
  },
  {
   "cell_type": "markdown",
   "metadata": {},
   "source": [
    "Paths to datasets."
   ]
  },
  {
   "cell_type": "code",
   "execution_count": 18,
   "metadata": {
    "collapsed": true
   },
   "outputs": [],
   "source": [
    "FTRAIN = '~/ML/kaggle/facial-keypoints-detection/data/training.csv'\n",
    "FTEST = '~/ML/kaggle/facial-keypoints-detection/data/test.csv'\n",
    "FLOOKUP = '~/ML/kaggle/facial-keypoints-detection/data/IdLookupTable.csv'"
   ]
  },
  {
   "cell_type": "code",
   "execution_count": 64,
   "metadata": {
    "collapsed": true
   },
   "outputs": [],
   "source": [
    "def load(test = False, cols = None):\n",
    "#     Loads data from FTEST if *test* is True, otherwise from FTRAIN.\n",
    "#     Pass a list of *cols* if you're only interested in a subset of the\n",
    "#     target columns.\n",
    "    \n",
    "    fname = FTEST if test else FTRAIN\n",
    "    df = read_csv(os.path.expanduser(fname))  # load pandas dataframe\n",
    "\n",
    "    # The Image column has pixel values separated by space; convert\n",
    "    # the values to numpy arrays:\n",
    "    df['Image'] = df['Image'].apply(lambda im: np.fromstring(im, sep = ' '))\n",
    "    if cols:  # get a subset of columns\n",
    "        df = df[list(cols) + ['Image']]\n",
    "\n",
    "    #print(df.count())  # prints the number of values for each column\n",
    "    df = df.dropna()  # drop all rows that have missing values in them\n",
    "\n",
    "    X = np.vstack(df['Image'].values) / 255.  # scale pixel values to [0, 1]\n",
    "    X = X.astype(np.float32)\n",
    "\n",
    "    if not test:  # only FTRAIN has any target columns\n",
    "        y = df[df.columns[:-1]].values\n",
    "        y = (y - 48) / 48  # scale target coordinates to [-1, 1]\n",
    "        X, y = shuffle(X, y, random_state=42)  # shuffle train data\n",
    "        y = y.astype(np.float32)\n",
    "    else:\n",
    "        y = None\n",
    "\n",
    "    return X, y"
   ]
  },
  {
   "cell_type": "code",
   "execution_count": 65,
   "metadata": {
    "collapsed": true
   },
   "outputs": [],
   "source": [
    "def plot_sample(x, y, axis):\n",
    "    img = x.reshape(96, 96)\n",
    "    axis.imshow(img, cmap='gray')\n",
    "    axis.scatter(y[0::2] * 48 + 48, y[1::2] * 48 + 48, marker='x', s=10)"
   ]
  },
  {
   "cell_type": "code",
   "execution_count": 66,
   "metadata": {
    "collapsed": false
   },
   "outputs": [],
   "source": [
    "num_channels = 1 # grayscale\n",
    "image_size = 96\n",
    "\n",
    "def load2d(test = False, cols = None):\n",
    "    X, y = load(test = test, cols = cols)\n",
    "    X = X.reshape(-1, image_size, image_size, num_channels)\n",
    "    return X, y"
   ]
  },
  {
   "cell_type": "markdown",
   "metadata": {},
   "source": [
    "## Parameters"
   ]
  },
  {
   "cell_type": "code",
   "execution_count": 67,
   "metadata": {
    "collapsed": false
   },
   "outputs": [],
   "source": [
    "# Predefined parameters\n",
    "batch_size = 36\n",
    "every_epoch_to_log = 1\n",
    "\n",
    "data_augmentation = True\n",
    "learning_rate_decay = True\n",
    "momentum_increase = True\n",
    "dropout = True\n",
    "    \n",
    "root_location = os.path.expanduser(\"~/ML/kaggle/facial-keypoints-detection/models/\")\n",
    "\n",
    "def model_name(spec_name):\n",
    "    return \"spec_\" + spec_name\n",
    "\n",
    "def model_path(spec_name):\n",
    "    return root_location + \"specialists/\" + model_name(spec_name) + \"/model.ckpt\"\n",
    "\n",
    "def train_history_path(spec_name):\n",
    "    return root_location + \"specialists/\" + model_name(spec_name) + \"/train_history\"\n",
    "\n",
    "def create_directory_for_specialist(spec_name):\n",
    "    tf.gfile.MkDir(root_location)\n",
    "    tf.gfile.MkDir(root_location + \"specialists/\")\n",
    "    tf.gfile.MkDir(root_location + \"specialists/\" + model_name(spec_name) + \"/\")"
   ]
  },
  {
   "cell_type": "markdown",
   "metadata": {},
   "source": [
    "## Specialists"
   ]
  },
  {
   "cell_type": "code",
   "execution_count": 68,
   "metadata": {
    "collapsed": true
   },
   "outputs": [],
   "source": [
    "SPECIALIST_SETTINGS = [\n",
    "    dict(\n",
    "        name = \"eye_center\",\n",
    "        columns = (\n",
    "            'left_eye_center_x', 'left_eye_center_y',\n",
    "            'right_eye_center_x', 'right_eye_center_y',\n",
    "            ),\n",
    "        flip_indices = ((0, 2), (1, 3)),\n",
    "        ),\n",
    "\n",
    "    dict(\n",
    "        name = \"nose_tip\",\n",
    "        columns = (\n",
    "            'nose_tip_x', 'nose_tip_y',\n",
    "            ),\n",
    "        flip_indices = (),\n",
    "        ),\n",
    "\n",
    "    dict(\n",
    "        name = \"mouth_corner_top\",\n",
    "        columns = (\n",
    "            'mouth_left_corner_x', 'mouth_left_corner_y',\n",
    "            'mouth_right_corner_x', 'mouth_right_corner_y',\n",
    "            'mouth_center_top_lip_x', 'mouth_center_top_lip_y',\n",
    "            ),\n",
    "        flip_indices = ((0, 2), (1, 3)),\n",
    "        ),\n",
    "\n",
    "    dict(\n",
    "        name = \"mouth_bottom\",\n",
    "        columns = (\n",
    "            'mouth_center_bottom_lip_x',\n",
    "            'mouth_center_bottom_lip_y',\n",
    "            ),\n",
    "        flip_indices = (),\n",
    "        ),\n",
    "\n",
    "    dict(\n",
    "        name = \"eye_corner\",\n",
    "        columns = (\n",
    "            'left_eye_inner_corner_x', 'left_eye_inner_corner_y',\n",
    "            'right_eye_inner_corner_x', 'right_eye_inner_corner_y',\n",
    "            'left_eye_outer_corner_x', 'left_eye_outer_corner_y',\n",
    "            'right_eye_outer_corner_x', 'right_eye_outer_corner_y',\n",
    "            ),\n",
    "        flip_indices = ((0, 2), (1, 3), (4, 6), (5, 7)),\n",
    "        ),\n",
    "\n",
    "    dict(\n",
    "        name = \"eyebrow\",\n",
    "        columns = (\n",
    "            'left_eyebrow_inner_end_x', 'left_eyebrow_inner_end_y',\n",
    "            'right_eyebrow_inner_end_x', 'right_eyebrow_inner_end_y',\n",
    "            'left_eyebrow_outer_end_x', 'left_eyebrow_outer_end_y',\n",
    "            'right_eyebrow_outer_end_x', 'right_eyebrow_outer_end_y',\n",
    "            ),\n",
    "        flip_indices = ((0, 2), (1, 3), (4, 6), (5, 7)),\n",
    "        ),\n",
    "    ]"
   ]
  },
  {
   "cell_type": "markdown",
   "metadata": {},
   "source": [
    "## Routines"
   ]
  },
  {
   "cell_type": "markdown",
   "metadata": {},
   "source": [
    "This is our data augmentation routine. It randomly flips a defined portion of dataset horizontally."
   ]
  },
  {
   "cell_type": "code",
   "execution_count": 69,
   "metadata": {
    "collapsed": true
   },
   "outputs": [],
   "source": [
    "class FlipBatchIterator(BatchIterator):\n",
    "    flip_indices = [\n",
    "        (0, 2), (1, 3),\n",
    "        (4, 8), (5, 9), (6, 10), (7, 11),\n",
    "        (12, 16), (13, 17), (14, 18), (15, 19),\n",
    "        (22, 24), (23, 25),\n",
    "        ]\n",
    "\n",
    "    def transform(self, Xb, yb):\n",
    "        Xb, yb = super(FlipBatchIterator, self).transform(Xb, yb)\n",
    "\n",
    "        # Flip half of the images in this batch at random:\n",
    "        bs = Xb.shape[0]\n",
    "        indices = np.random.choice(bs, int(bs / 2), replace=False)\n",
    "        Xb[indices] = Xb[indices, :, ::-1, :]\n",
    "\n",
    "        if yb is not None:\n",
    "            # Horizontal flip of all x coordinates:\n",
    "            yb[indices, ::2] = yb[indices, ::2] * -1\n",
    "\n",
    "            # Swap places, e.g. left_eye_center_x -> right_eye_center_x\n",
    "            for a, b in self.flip_indices:\n",
    "                yb[indices, a], yb[indices, b] = (\n",
    "                    yb[indices, b], yb[indices, a])\n",
    "\n",
    "        return Xb, yb"
   ]
  },
  {
   "cell_type": "markdown",
   "metadata": {},
   "source": [
    "Performs a single fully connected layer pass, e.g. returns `input * weights + bias`:"
   ]
  },
  {
   "cell_type": "code",
   "execution_count": 70,
   "metadata": {
    "collapsed": true
   },
   "outputs": [],
   "source": [
    "def fully_connected(input, size):\n",
    "    weights = tf.get_variable( 'weights', \n",
    "        shape = [input.get_shape()[1], size],\n",
    "        initializer = tf.contrib.layers.xavier_initializer()\n",
    "      )\n",
    "    biases = tf.get_variable( 'biases',\n",
    "        shape = [size],\n",
    "        initializer=tf.constant_initializer(0.0)\n",
    "      )\n",
    "    return tf.matmul(input, weights) + biases"
   ]
  },
  {
   "cell_type": "markdown",
   "metadata": {},
   "source": [
    "Routine for a single convolution layer pass."
   ]
  },
  {
   "cell_type": "code",
   "execution_count": 71,
   "metadata": {
    "collapsed": true
   },
   "outputs": [],
   "source": [
    "def conv_relu(input, kernel_size, depth):\n",
    "    weights = tf.get_variable( 'weights', \n",
    "        shape = [kernel_size, kernel_size, input.get_shape()[3], depth],\n",
    "        initializer = tf.contrib.layers.xavier_initializer()\n",
    "      )\n",
    "    biases = tf.get_variable( 'biases',\n",
    "        shape = [depth],\n",
    "        initializer=tf.constant_initializer(0.0)\n",
    "      )\n",
    "    conv = tf.nn.conv2d(input, weights,\n",
    "        strides=[1, 1, 1, 1], padding='SAME')\n",
    "    return tf.nn.relu(conv + biases)"
   ]
  },
  {
   "cell_type": "markdown",
   "metadata": {},
   "source": [
    "Routine for a pooling layer."
   ]
  },
  {
   "cell_type": "code",
   "execution_count": 72,
   "metadata": {
    "collapsed": true
   },
   "outputs": [],
   "source": [
    "def pool(input, size):\n",
    "    return tf.nn.max_pool(\n",
    "        input, \n",
    "        ksize=[1, size, size, 1], \n",
    "        strides=[1, size, size, 1], \n",
    "        padding='SAME'\n",
    "    )"
   ]
  },
  {
   "cell_type": "markdown",
   "metadata": {},
   "source": [
    "Routine that performs entire model pass, e.g. returns model prediction for given input with current model (3 convolution layers with 2 fully connected layers):"
   ]
  },
  {
   "cell_type": "code",
   "execution_count": 73,
   "metadata": {
    "collapsed": true
   },
   "outputs": [],
   "source": [
    "def model_pass(input, keypoints):\n",
    "    # Convolutions\n",
    "    with tf.variable_scope('conv1'):\n",
    "        conv1 = conv_relu(input, kernel_size = 3, depth = 32) \n",
    "    with tf.variable_scope('pool1'): \n",
    "        pool1 = pool(conv1, size = 2)\n",
    "        if dropout: pool1 = tf.nn.dropout(pool1, keep_prob = 0.9)\n",
    "    with tf.variable_scope('conv2'):\n",
    "        conv2 = conv_relu(pool1, kernel_size = 2, depth = 64)\n",
    "    with tf.variable_scope('pool2'):\n",
    "        pool2 = pool(conv2, size = 2)\n",
    "        if dropout: pool2 = tf.nn.dropout(pool2, keep_prob = 0.8)\n",
    "    with tf.variable_scope('conv3'):\n",
    "        conv3 = conv_relu(pool2, kernel_size = 2, depth = 128)\n",
    "    with tf.variable_scope('pool3'):\n",
    "        pool3 = pool(conv3, size = 2)\n",
    "        if dropout: pool3 = tf.nn.dropout(pool3, keep_prob = 0.7)\n",
    "    \n",
    "    # Fully connected\n",
    "    shape = pool3.get_shape().as_list()\n",
    "    pool3 = tf.reshape(pool3, [-1, shape[1] * shape[2] * shape[3]])\n",
    "    \n",
    "    with tf.variable_scope('fc4'):\n",
    "        fc4 = fully_connected(pool3, size = 1000)\n",
    "        if dropout: fc4 = tf.nn.dropout(fc4, keep_prob = 0.5)\n",
    "    with tf.variable_scope('fc5'):\n",
    "        fc5 = fully_connected(fc4, size = 1000)\n",
    "    with tf.variable_scope('out'):\n",
    "        prediction = fully_connected(fc5, size = keypoints)\n",
    "    return prediction"
   ]
  },
  {
   "cell_type": "markdown",
   "metadata": {},
   "source": [
    "Calculates loss based on model predictions."
   ]
  },
  {
   "cell_type": "code",
   "execution_count": 74,
   "metadata": {
    "collapsed": false
   },
   "outputs": [],
   "source": [
    "def calc_loss(predictions, labels):\n",
    "    return np.mean(np.square(predictions - labels))"
   ]
  },
  {
   "cell_type": "markdown",
   "metadata": {},
   "source": [
    "Calculates time since `start` and formats as a string."
   ]
  },
  {
   "cell_type": "code",
   "execution_count": 75,
   "metadata": {
    "collapsed": true
   },
   "outputs": [],
   "source": [
    "def get_time_hhmmss(start):\n",
    "    end = time.time()\n",
    "    m, s = divmod(end - start, 60)\n",
    "    h, m = divmod(m, 60)\n",
    "    time_str = \"%02d:%02d:%02d\" % (h, m, s)\n",
    "    return time_str"
   ]
  },
  {
   "cell_type": "markdown",
   "metadata": {},
   "source": [
    "## Training"
   ]
  },
  {
   "cell_type": "code",
   "execution_count": 76,
   "metadata": {
    "collapsed": true
   },
   "outputs": [],
   "source": [
    "def get_predictions_in_batches(X, y, session, predictions, tf_x_batch, tf_y_batch):\n",
    "    p = []\n",
    "    batch_iterator = BatchIterator(batch_size = 128)\n",
    "    for x_batch, y_batch in batch_iterator(X, y):\n",
    "        [p_batch] = session.run([predictions], feed_dict = {\n",
    "                tf_x_batch : x_batch, \n",
    "                tf_y_batch : y_batch\n",
    "            }\n",
    "        )\n",
    "        p.extend(p_batch)\n",
    "    return p"
   ]
  },
  {
   "cell_type": "code",
   "execution_count": 77,
   "metadata": {
    "collapsed": true
   },
   "outputs": [],
   "source": [
    "def train_specialist(spec_setting):\n",
    "    # Initialising routines:\n",
    "        \n",
    "    # Load data and split into datasets\n",
    "    X, y = load2d(cols = spec_setting['columns'])\n",
    "    x_train, x_test, y_train, y_test = train_test_split(X, y, test_size = 0.3)\n",
    "    x_test, x_valid, y_test, y_valid = train_test_split(x_test, y_test, test_size = 0.5)    \n",
    "    \n",
    "    # Work out some specialist settings and prepare the file paths\n",
    "    spec_name = spec_setting['name']\n",
    "    create_directory_for_specialist(spec_name)\n",
    "    spec_var_scope = model_name(spec_name)\n",
    "    \n",
    "    # Calculate some of the training hyperparameters based on the specialist and available data\n",
    "    max_epochs = 5 #int(1e7 / y.shape[0])\n",
    "    num_keypoints = y.shape[1]\n",
    "    \n",
    "    # Note training time start\n",
    "    spec_start = time.time()\n",
    "    \n",
    "    # Build the graph\n",
    "    graph = tf.Graph()\n",
    "    with graph.as_default():\n",
    "        # Input data. For the training data, we use a placeholder that will be fed at run time with a training minibatch.\n",
    "        tf_x_batch = tf.placeholder(tf.float32, shape = (None, image_size, image_size, num_channels))\n",
    "        tf_y_batch = tf.placeholder(tf.float32, shape = (None, num_keypoints))\n",
    "\n",
    "        current_epoch = tf.Variable(0)  # count the number of epochs\n",
    "\n",
    "        # Model parameters.\n",
    "        learning_rate = tf.train.exponential_decay(0.03, current_epoch, decay_steps = max_epochs, decay_rate=0.03) if learning_rate_decay else 0.01\n",
    "        momentum = 0.9 + (0.99 - 0.9) * (current_epoch / max_epochs) if momentum_increase else 0.9\n",
    "\n",
    "        # Training computation.\n",
    "        with tf.variable_scope(spec_var_scope):\n",
    "            predictions = model_pass(tf_x_batch, num_keypoints)\n",
    "\n",
    "        loss = tf.reduce_mean(tf.square(predictions - tf_y_batch))\n",
    "        #loss = tf.reduce_mean(tf.square(predictions - tf_y_batch)) # + l2_lambda * (tf.nn.l2_loss(weightsInToHid) + tf.nn.l2_loss(weightsHidToOut))  \n",
    "\n",
    "        # Optimizer.\n",
    "        optimizer = tf.train.MomentumOptimizer(\n",
    "            learning_rate = learning_rate, \n",
    "            momentum = momentum, \n",
    "            use_nesterov = True\n",
    "        ).minimize(loss)\n",
    "    \n",
    "    # Initiate training\n",
    "    with tf.Session(graph = graph) as session:\n",
    "        tf.initialize_all_variables().run()\n",
    "        saver = tf.train.Saver()\n",
    "        train_loss_history = np.zeros(max_epochs)\n",
    "        valid_loss_history = np.zeros(max_epochs)\n",
    "        print(\"======= TRAINING: \" + spec_name.replace(\"_\", \" \").upper() + \" on \" + str(y.shape[0]) + \" EXAMPLES ========\")\n",
    "        for epoch in range(max_epochs):\n",
    "            current_epoch = epoch\n",
    "            # Train on whole randomised dataset in batches\n",
    "            batch_iterator = FlipBatchIterator(batch_size = batch_size, shuffle = True) if data_augmentation else BatchIterator(batch_size = batch_size, shuffle = True)\n",
    "            batch_iterator.flip_indices = spec_setting['flip_indices']\n",
    "            for x_batch, y_batch in batch_iterator(x_train, y_train):\n",
    "                session.run([optimizer], feed_dict = {\n",
    "                        tf_x_batch : x_batch, \n",
    "                        tf_y_batch : y_batch\n",
    "                    }\n",
    "                )\n",
    "\n",
    "            # If another significant epoch ended, we log our losses.\n",
    "            if (epoch % every_epoch_to_log == 0):\n",
    "                # Get training data predictions and log training loss:\n",
    "                train_loss = calc_loss(\n",
    "                    get_predictions_in_batches(x_train, y_train, session, predictions, tf_x_batch, tf_y_batch), \n",
    "                    y_train\n",
    "                )\n",
    "                train_loss_history[epoch] = train_loss\n",
    "\n",
    "                # Get validation data predictions and log validation loss:\n",
    "                valid_loss = calc_loss(\n",
    "                    get_predictions_in_batches(x_valid, y_valid, session, predictions, tf_x_batch, tf_y_batch), \n",
    "                    y_valid\n",
    "                )\n",
    "                valid_loss_history[epoch] = valid_loss\n",
    "\n",
    "                if (epoch % 1 == 0):\n",
    "                    print(\"--------- EPOCH %4d/%d ---------\" % (epoch, max_epochs))\n",
    "                    print(\"     Train loss: %.8f\" % (train_loss))\n",
    "                    print(\"Validation loss: %.8f\" % (valid_loss))\n",
    "                    print(\"           Time: \" + get_time_hhmmss(spec_start))\n",
    "\n",
    "        # Evaluate on test dataset.\n",
    "        test_loss = calc_loss(\n",
    "            get_predictions_in_batches(x_test, y_test, session, predictions, tf_x_batch, tf_y_batch), \n",
    "            y_test\n",
    "        )\n",
    "        print(\"=========== \" + spec_name.replace(\"_\", \" \").upper() + \": ============\")\n",
    "        print(\" Test score: %.3f (loss = %.8f)\" % (np.sqrt(test_loss) * 48.0, test_loss)) \n",
    "        print(\" Total time: \" + get_time_hhmmss(spec_start))\n",
    "\n",
    "        # Save model weights for future use.\n",
    "        save_path = saver.save(session, model_path(spec_name))\n",
    "        print(\"Model file: \" + save_path)\n",
    "        np.savez(train_history_path(spec_name), train_loss_history = train_loss_history, valid_loss_history = valid_loss_history)\n",
    "        print(\"Train history file: \" + train_history_path(spec_name))        \n",
    "        print(\"\\n\")"
   ]
  },
  {
   "cell_type": "code",
   "execution_count": null,
   "metadata": {
    "collapsed": false
   },
   "outputs": [
    {
     "name": "stdout",
     "output_type": "stream",
     "text": [
      "======= TRAINING: EYE CENTER on 7033 EXAMPLES ========\n",
      "--------- EPOCH    0/5 ---------\n",
      "     Train loss: 0.00469315\n",
      "Validation loss: 0.00443092\n",
      "           Time: 00:01:46\n",
      "--------- EPOCH    1/5 ---------\n",
      "     Train loss: 0.00463840\n",
      "Validation loss: 0.00439686\n",
      "           Time: 00:03:32\n",
      "--------- EPOCH    2/5 ---------\n",
      "     Train loss: 0.00456249\n",
      "Validation loss: 0.00436819\n",
      "           Time: 00:05:18\n",
      "--------- EPOCH    3/5 ---------\n",
      "     Train loss: 0.00457918\n",
      "Validation loss: 0.00437155\n",
      "           Time: 00:07:04\n",
      "--------- EPOCH    4/5 ---------\n",
      "     Train loss: 0.00455741\n",
      "Validation loss: 0.00432872\n",
      "           Time: 00:08:51\n",
      "=========== EYE CENTER: ============\n",
      " Test score: 3.179 (loss = 0.00438698)\n",
      " Total time: 00:08:57\n",
      "Model file: /Users/alex/ML/kaggle/facial-keypoints-detection/models/specialists/spec_eye_center/model.ckpt\n",
      "Train history file: /Users/alex/ML/kaggle/facial-keypoints-detection/models/specialists/spec_eye_center/train_history\n",
      "\n",
      "\n",
      "======= TRAINING: NOSE TIP on 7049 EXAMPLES ========\n",
      "--------- EPOCH    0/5 ---------\n",
      "     Train loss: 0.01153778\n",
      "Validation loss: 0.01145245\n",
      "           Time: 00:01:52\n",
      "--------- EPOCH    1/5 ---------\n",
      "     Train loss: 0.01187387\n",
      "Validation loss: 0.01129766\n",
      "           Time: 00:03:42\n",
      "--------- EPOCH    2/5 ---------\n",
      "     Train loss: 0.01394570\n",
      "Validation loss: 0.01301293\n",
      "           Time: 00:05:28\n"
     ]
    }
   ],
   "source": [
    "start = time.time()\n",
    "\n",
    "for spec_setting in SPECIALIST_SETTINGS:\n",
    "    train_specialist(spec_setting)\n",
    "    \n",
    "print(\"====== ALL SPECIALISTS TRAINED =======\")\n",
    "print(\" Total time: \" + get_time_hhmmss(start))"
   ]
  },
  {
   "cell_type": "markdown",
   "metadata": {},
   "source": [
    "## Evaluation"
   ]
  },
  {
   "cell_type": "code",
   "execution_count": 58,
   "metadata": {
    "collapsed": true
   },
   "outputs": [],
   "source": [
    "# Plots history of learning curves for a specific model. You may want to call `pyplot.show()` afterwards.\n",
    "def plot_learning_curves(specialist = spec_name, linewidth = 2, train_linestyle = \"b-\", valid_linestyle = \"g-\"):\n",
    "    model_history = np.load(train_history_path(spec_name))\n",
    "    train_loss = model_history[\"train_loss_history\"]\n",
    "    valid_loss = model_history[\"valid_loss_history\"]\n",
    "    epochs = train_loss.shape[0]\n",
    "    x_axis = np.arange(epochs)\n",
    "    pyplot.plot(x_axis[train_loss > 0], train_loss[train_loss > 0], train_linestyle, linewidth=linewidth, label=spec_name + \" train\")\n",
    "    pyplot.plot(x_axis[valid_loss > 0], valid_loss[valid_loss > 0], valid_linestyle, linewidth=linewidth, label=spec_name + \" valid\")\n",
    "    return epochs"
   ]
  },
  {
   "cell_type": "code",
   "execution_count": 59,
   "metadata": {
    "collapsed": false
   },
   "outputs": [
    {
     "data": {
      "image/png": "[encoded data removed]",
      "text/plain": [
       "<matplotlib.figure.Figure at 0x7fa5ac07c0f0>"
      ]
     },
     "metadata": {},
     "output_type": "display_data"
    }
   ],
   "source": [
    "new_model_epochs = plot_learning_curves()\n",
    "old_model_epochs = plot_learning_curves(\"3con_2fc_b36_e1000_aug_lrdec_mominc\", linewidth = 1)\n",
    "\n",
    "pyplot.grid()\n",
    "pyplot.legend()\n",
    "pyplot.xlabel(\"epoch\")\n",
    "pyplot.ylabel(\"loss\")\n",
    "pyplot.ylim(0.001, 0.01)\n",
    "pyplot.xlim(0, max(new_model_epochs, old_model_epochs))\n",
    "pyplot.yscale(\"log\")\n",
    "pyplot.show()"
   ]
  },
  {
   "cell_type": "markdown",
   "metadata": {},
   "source": [
    "Now, let's take a look at the data and predictions. \n",
    "\n",
    "Load training data, restore saved model parameters and get predictions:"
   ]
  },
  {
   "cell_type": "code",
   "execution_count": 4,
   "metadata": {
    "collapsed": false,
    "scrolled": true
   },
   "outputs": [
    {
     "ename": "NameError",
     "evalue": "name 'load' is not defined",
     "output_type": "error",
     "traceback": [
      "\u001b[0;31m---------------------------------------------------------------------------\u001b[0m",
      "\u001b[0;31mNameError\u001b[0m                                 Traceback (most recent call last)",
      "\u001b[0;32m<ipython-input-4-acfbdf2d9b5d>\u001b[0m in \u001b[0;36m<module>\u001b[0;34m()\u001b[0m\n\u001b[0;32m----> 1\u001b[0;31m \u001b[0mX\u001b[0m\u001b[0;34m,\u001b[0m \u001b[0m_\u001b[0m \u001b[0;34m=\u001b[0m \u001b[0mload\u001b[0m\u001b[0;34m(\u001b[0m\u001b[0mtest\u001b[0m \u001b[0;34m=\u001b[0m \u001b[0;32mTrue\u001b[0m\u001b[0;34m)\u001b[0m\u001b[0;34m\u001b[0m\u001b[0m\n\u001b[0m\u001b[1;32m      2\u001b[0m \u001b[0;34m\u001b[0m\u001b[0m\n\u001b[1;32m      3\u001b[0m \u001b[0;32mwith\u001b[0m \u001b[0mgraph\u001b[0m\u001b[0;34m.\u001b[0m\u001b[0mas_default\u001b[0m\u001b[0;34m(\u001b[0m\u001b[0;34m)\u001b[0m\u001b[0;34m:\u001b[0m\u001b[0;34m\u001b[0m\u001b[0m\n\u001b[1;32m      4\u001b[0m     \u001b[0mtf_x\u001b[0m \u001b[0;34m=\u001b[0m \u001b[0mtf\u001b[0m\u001b[0;34m.\u001b[0m\u001b[0mconstant\u001b[0m\u001b[0;34m(\u001b[0m\u001b[0mX\u001b[0m\u001b[0;34m)\u001b[0m\u001b[0;34m\u001b[0m\u001b[0m\n\u001b[1;32m      5\u001b[0m \u001b[0;34m\u001b[0m\u001b[0m\n",
      "\u001b[0;31mNameError\u001b[0m: name 'load' is not defined"
     ]
    }
   ],
   "source": [
    "X, _ = load(test = True)\n",
    "\n",
    "with graph.as_default():\n",
    "    tf_x = tf.constant(X)\n",
    "\n",
    "    with tf.variable_scope(model_variable_scope, reuse = True):\n",
    "        tf_p = model_pass(tf_x)  \n",
    "        \n",
    "with tf.Session(graph = graph) as session:\n",
    "    tf.initialize_all_variables().run()\n",
    "    load_path = saver.restore(session, model_path(SPECIALIST_SETTINGS[0].name))\n",
    "    p = tf_p.eval()"
   ]
  },
  {
   "cell_type": "code",
   "execution_count": null,
   "metadata": {
    "collapsed": true
   },
   "outputs": [],
   "source": []
  }
 ],
 "metadata": {
  "anaconda-cloud": {},
  "kernelspec": {
   "display_name": "Python [default]",
   "language": "python",
   "name": "python3"
  },
  "language_info": {
   "codemirror_mode": {
    "name": "ipython",
    "version": 3
   },
   "file_extension": ".py",
   "mimetype": "text/x-python",
   "name": "python",
   "nbconvert_exporter": "python",
   "pygments_lexer": "ipython3",
   "version": "3.5.2"
  }
 },
 "nbformat": 4,
 "nbformat_minor": 0
}

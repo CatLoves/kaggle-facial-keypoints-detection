{
 "cells": [
  {
   "cell_type": "code",
   "execution_count": 387,
   "metadata": {
    "collapsed": false,
    "nbpresent": {
     "id": "275cadde-3cfc-4dfc-9f84-db7d4bfcb004"
    }
   },
   "outputs": [
    {
     "name": "stderr",
     "output_type": "stream",
     "text": [
      "/Users/alex/anaconda/lib/python3.5/site-packages/matplotlib/__init__.py:1357: UserWarning:  This call to matplotlib.use() has no effect\n",
      "because the backend has already been chosen;\n",
      "matplotlib.use() must be called *before* pylab, matplotlib.pyplot,\n",
      "or matplotlib.backends is imported for the first time.\n",
      "\n",
      "  warnings.warn(_use_error_msg)\n"
     ]
    }
   ],
   "source": [
    "%matplotlib inline\n",
    "\n",
    "# These are all the modules we'll be using later. Make sure you can import them\n",
    "# before proceeding further.\n",
    "import numpy as np\n",
    "import matplotlib\n",
    "matplotlib.use('TkAgg')\n",
    "from matplotlib import pyplot\n",
    "\n",
    "from six.moves import cPickle as pickle\n",
    "from datetime import datetime\n",
    "import os\n",
    "import sys\n",
    "import time\n",
    "\n",
    "import numpy as np\n",
    "from pandas import DataFrame\n",
    "from pandas.io.parsers import read_csv\n",
    "from sklearn.utils import shuffle\n",
    "from sklearn.cross_validation import train_test_split\n",
    "import tensorflow as tf"
   ]
  },
  {
   "cell_type": "code",
   "execution_count": 388,
   "metadata": {
    "collapsed": true,
    "nbpresent": {
     "id": "42276d50-99a0-4a4b-84b8-4b3a3633c98b"
    }
   },
   "outputs": [],
   "source": [
    "sys.setrecursionlimit(10000)  # for pickle..."
   ]
  },
  {
   "cell_type": "code",
   "execution_count": 389,
   "metadata": {
    "collapsed": true,
    "nbpresent": {
     "id": "5af4290b-af7e-4e1e-854e-04e9a6f9d929"
    }
   },
   "outputs": [],
   "source": [
    "FTRAIN = '~/ML/kaggle/facial-keypoints-detection/data/training.csv'\n",
    "FTEST = '~/ML/kaggle/facial-keypoints-detection/data/test.csv'\n",
    "FLOOKUP = '~/ML/kaggle/facial-keypoints-detection/data/IdLookupTable.csv'"
   ]
  },
  {
   "cell_type": "code",
   "execution_count": 390,
   "metadata": {
    "collapsed": true,
    "nbpresent": {
     "id": "87483b94-afb3-4b70-93d9-6a7de04c6969"
    }
   },
   "outputs": [],
   "source": [
    "def load(test = False, cols = None):\n",
    "#     Loads data from FTEST if *test* is True, otherwise from FTRAIN.\n",
    "#     Pass a list of *cols* if you're only interested in a subset of the\n",
    "#     target columns.\n",
    "    \n",
    "    fname = FTEST if test else FTRAIN\n",
    "    df = read_csv(os.path.expanduser(fname))  # load pandas dataframe\n",
    "\n",
    "    # The Image column has pixel values separated by space; convert\n",
    "    # the values to numpy arrays:\n",
    "    df['Image'] = df['Image'].apply(lambda im: np.fromstring(im, sep = ' '))\n",
    "\n",
    "    if cols:  # get a subset of columns\n",
    "        df = df[list(cols) + ['Image']]\n",
    "\n",
    "    print(df.count())  # prints the number of values for each column\n",
    "    df = df.dropna()  # drop all rows that have missing values in them\n",
    "\n",
    "    X = np.vstack(df['Image'].values) / 255.  # scale pixel values to [0, 1]\n",
    "    X = X.astype(np.float32)\n",
    "\n",
    "    if not test:  # only FTRAIN has any target columns\n",
    "        y = df[df.columns[:-1]].values\n",
    "        y = (y - 48) / 48  # scale target coordinates to [-1, 1]\n",
    "        X, y = shuffle(X, y, random_state=42)  # shuffle train data\n",
    "        y = y.astype(np.float32)\n",
    "    else:\n",
    "        y = None\n",
    "\n",
    "    return X, y"
   ]
  },
  {
   "cell_type": "code",
   "execution_count": 391,
   "metadata": {
    "collapsed": false,
    "nbpresent": {
     "id": "0452913e-e7f0-4a64-becd-f40b6e3be5ae"
    }
   },
   "outputs": [],
   "source": [
    "image_size = 96\n",
    "num_channels = 1 # grayscale\n",
    "num_keypoints = 30\n",
    "\n",
    "def load2d(test = False, cols = None):\n",
    "    X, y = load(test = test)\n",
    "    X = X.reshape(-1, num_channels, image_size, image_size)\n",
    "    return X, y"
   ]
  },
  {
   "cell_type": "code",
   "execution_count": 392,
   "metadata": {
    "collapsed": false,
    "nbpresent": {
     "id": "8ff47238-e810-40c4-b2ff-285df7e8317c"
    }
   },
   "outputs": [
    {
     "name": "stdout",
     "output_type": "stream",
     "text": [
      "left_eye_center_x            7039\n",
      "left_eye_center_y            7039\n",
      "right_eye_center_x           7036\n",
      "right_eye_center_y           7036\n",
      "left_eye_inner_corner_x      2271\n",
      "left_eye_inner_corner_y      2271\n",
      "left_eye_outer_corner_x      2267\n",
      "left_eye_outer_corner_y      2267\n",
      "right_eye_inner_corner_x     2268\n",
      "right_eye_inner_corner_y     2268\n",
      "right_eye_outer_corner_x     2268\n",
      "right_eye_outer_corner_y     2268\n",
      "left_eyebrow_inner_end_x     2270\n",
      "left_eyebrow_inner_end_y     2270\n",
      "left_eyebrow_outer_end_x     2225\n",
      "left_eyebrow_outer_end_y     2225\n",
      "right_eyebrow_inner_end_x    2270\n",
      "right_eyebrow_inner_end_y    2270\n",
      "right_eyebrow_outer_end_x    2236\n",
      "right_eyebrow_outer_end_y    2236\n",
      "nose_tip_x                   7049\n",
      "nose_tip_y                   7049\n",
      "mouth_left_corner_x          2269\n",
      "mouth_left_corner_y          2269\n",
      "mouth_right_corner_x         2270\n",
      "mouth_right_corner_y         2270\n",
      "mouth_center_top_lip_x       2275\n",
      "mouth_center_top_lip_y       2275\n",
      "mouth_center_bottom_lip_x    7016\n",
      "mouth_center_bottom_lip_y    7016\n",
      "Image                        7049\n",
      "dtype: int64\n"
     ]
    }
   ],
   "source": [
    "X, y = load2d()"
   ]
  },
  {
   "cell_type": "code",
   "execution_count": 7,
   "metadata": {
    "collapsed": true,
    "nbpresent": {
     "id": "04923ac6-7c03-40c0-af57-a15fde23d65e"
    }
   },
   "outputs": [
    {
     "data": {
      "image/png": "[encoded data removed]",
      "text/plain": [
       "<matplotlib.figure.Figure at 0x11c52bb70>"
      ]
     },
     "metadata": {},
     "output_type": "display_data"
    }
   ],
   "source": [
    "img = X[11].reshape(96, 96)\n",
    "pyplot.imshow(img, cmap='gray')\n",
    "pyplot.show()"
   ]
  },
  {
   "cell_type": "code",
   "execution_count": 394,
   "metadata": {
    "collapsed": false,
    "nbpresent": {
     "id": "50584186-07a8-4328-b7be-880ac0f22dbd"
    }
   },
   "outputs": [],
   "source": [
    "x_train, x_test, y_train, y_test = train_test_split(X, y, test_size = 0.3)\n",
    "x_test, x_val, y_test, y_val = train_test_split(x_test, y_test, test_size = 0.5)"
   ]
  },
  {
   "cell_type": "code",
   "execution_count": 16,
   "metadata": {
    "collapsed": false
   },
   "outputs": [],
   "source": [
    "x_reshaped = x_train.reshape(x_train.shape[0], image_size*image_size)"
   ]
  },
  {
   "cell_type": "code",
   "execution_count": 18,
   "metadata": {
    "collapsed": false
   },
   "outputs": [
    {
     "data": {
      "text/plain": [
       "(1498, 1, 96, 96)"
      ]
     },
     "execution_count": 18,
     "metadata": {},
     "output_type": "execute_result"
    }
   ],
   "source": [
    "x_reshaped.shape"
   ]
  },
  {
   "cell_type": "code",
   "execution_count": 393,
   "metadata": {
    "collapsed": false,
    "nbpresent": {
     "id": "150c5b31-d36b-40ef-a095-ee9c1ad6592a"
    }
   },
   "outputs": [
    {
     "data": {
      "text/plain": [
       "(2140, 30)"
      ]
     },
     "execution_count": 393,
     "metadata": {},
     "output_type": "execute_result"
    }
   ],
   "source": [
    "y.shape"
   ]
  },
  {
   "cell_type": "code",
   "execution_count": 108,
   "metadata": {
    "collapsed": false
   },
   "outputs": [],
   "source": [
    "def calc_score(predictions, labels):\n",
    "  return np.sqrt(np.mean(np.square(predictions - labels))) * 48.0"
   ]
  },
  {
   "cell_type": "code",
   "execution_count": 109,
   "metadata": {
    "collapsed": true
   },
   "outputs": [],
   "source": [
    "def calc_loss(predictions, labels):\n",
    "  return np.mean(np.square(predictions - labels))"
   ]
  },
  {
   "cell_type": "code",
   "execution_count": 255,
   "metadata": {
    "collapsed": true
   },
   "outputs": [],
   "source": [
    "def get_time_hhmmss(start):\n",
    "    end = time.time()\n",
    "    m, s = divmod(end - start, 60)\n",
    "    h, m = divmod(m, 60)\n",
    "    time_str = \"%02d:%02d:%02d\" % (h, m, s)\n",
    "    return time_str"
   ]
  },
  {
   "cell_type": "markdown",
   "metadata": {
    "collapsed": false
   },
   "source": [
    "## First model: a single hidden layer"
   ]
  },
  {
   "cell_type": "code",
   "execution_count": 405,
   "metadata": {
    "collapsed": false
   },
   "outputs": [],
   "source": [
    "batch_size = 128\n",
    "hidden_layer_size = 100\n",
    "l2_lambda = 0\n",
    "num_epochs = 100\n",
    "num_steps = int((y_train.shape[0] / batch_size) * num_epochs)\n",
    "\n",
    "graph = tf.Graph()\n",
    "with graph.as_default():\n",
    "# Input data. For the training data, we use a placeholder that will be fed at run time with a training minibatch.\n",
    "  tf_x_batch = tf.placeholder(tf.float32, shape = (batch_size, image_size * image_size))\n",
    "  tf_y_batch = tf.placeholder(tf.float32, shape = (batch_size, num_keypoints))\n",
    "\n",
    "  tf_x_valid = tf.constant(x_val.reshape(x_val.shape[0], image_size * image_size))\n",
    "  tf_x_test = tf.constant(x_test.reshape(x_test.shape[0], image_size * image_size))\n",
    "  tf_x_train = tf.constant(x_train.reshape(x_train.shape[0], image_size * image_size))\n",
    "    \n",
    "# Weights and biases.    \n",
    "  weightsInToHid = tf.get_variable(\n",
    "        \"weightsInToHid\", \n",
    "        shape = [image_size * image_size, hidden_layer_size],\n",
    "        initializer = tf.contrib.layers.xavier_initializer()\n",
    "    )\n",
    "  biasesInToHid = tf.Variable(\n",
    "        tf.constant(1.0, shape = [hidden_layer_size])\n",
    "    )\n",
    "  weightsHidToOut = tf.get_variable(\n",
    "        \"weightsHidToOut\", \n",
    "        shape = [hidden_layer_size, num_keypoints],\n",
    "        initializer = tf.contrib.layers.xavier_initializer()\n",
    "    )\n",
    "  biasesHidToOut = tf.Variable(\n",
    "        tf.constant(1.0, shape = [num_keypoints])\n",
    "    )\n",
    "  \n",
    "# Training computation.\n",
    "\n",
    "  relu_hidden = tf.nn.relu(tf.matmul(tf_x_batch, weightsInToHid) + biasesInToHid)\n",
    "  output = tf.matmul(relu_hidden, weightsHidToOut) + biasesHidToOut\n",
    "   \n",
    "  loss = tf.reduce_mean(tf.square(output - tf_y_batch)) # + l2_lambda * (tf.nn.l2_loss(weightsInToHid) + tf.nn.l2_loss(weightsHidToOut))  \n",
    "    \n",
    "  global_step = tf.Variable(0)  # count the number of steps taken.\n",
    "  learning_rate = 0.01 #tf.train.exponential_decay(0.5, global_step, decay_steps = num_steps, decay_rate = 0.99)\n",
    "\n",
    "# Optimizer.\n",
    "  optimizer = tf.train.MomentumOptimizer(learning_rate = learning_rate, momentum = 0.9, use_nesterov = True).minimize(loss, global_step = global_step)\n",
    "\n",
    "# Predictions for the training, validation, and test data.\n",
    "  p_train_hidden = tf.nn.relu(tf.matmul(tf_x_train, weightsInToHid) + biasesInToHid)\n",
    "  p_train = tf.matmul(p_train_hidden, weightsHidToOut) + biasesHidToOut\n",
    "    \n",
    "  p_valid_hidden = tf.nn.relu(tf.matmul(tf_x_valid, weightsInToHid) + biasesInToHid)\n",
    "  p_valid = tf.matmul(p_valid_hidden, weightsHidToOut) + biasesHidToOut\n",
    "\n",
    "  p_test_hidden = tf.nn.relu(tf.matmul(tf_x_test, weightsInToHid) + biasesInToHid)\n",
    "  p_test = tf.matmul(p_test_hidden, weightsHidToOut) + biasesHidToOut\n",
    "#   with tf.variable_scope(\"single_hidden_layer_model\") as scope:\n",
    "#     scope.reuse_variables()\n",
    "#     p_train = model_pass(tf_x_train)  \n",
    "#     p_valid = model_pass(tf_x_valid)  \n",
    "#     p_test = model_pass(tf_x_test)"
   ]
  },
  {
   "cell_type": "code",
   "execution_count": 408,
   "metadata": {
    "collapsed": false,
    "scrolled": true
   },
   "outputs": [
    {
     "name": "stdout",
     "output_type": "stream",
     "text": [
      "Initialized\n",
      "--------- STEP    0/1170 ---------\n",
      "  Minibatch loss: 2.68475771\n",
      "      Train loss: 12.43820190\n",
      " Validation loss: 12.75880432\n",
      "            Time: 00:00:00\n",
      "--------- STEP  500/1170 ---------\n",
      "  Minibatch loss: 0.00560949\n",
      "      Train loss: 0.00569275\n",
      " Validation loss: 0.00597210\n",
      "            Time: 00:00:28\n",
      "--------- STEP 1000/1170 ---------\n",
      "  Minibatch loss: 0.00393898\n",
      "      Train loss: 0.00432086\n",
      " Validation loss: 0.00457707\n",
      "            Time: 00:01:00\n",
      "===================================\n",
      " Test score: 3.265\n",
      " Total time: 00:01:12\n"
     ]
    }
   ],
   "source": [
    "start = time.time()\n",
    "with tf.Session(graph = graph) as session:\n",
    "  tf.initialize_all_variables().run()\n",
    "  print(\"Initialized\")\n",
    "  train_loss = np.ndarray(num_steps)\n",
    "  valid_loss = np.ndarray(num_steps)\n",
    "  for step in range(num_steps):\n",
    "    # Pick an offset within the training data, which has been randomized.\n",
    "    # Note: we could use better randomization across epochs.\n",
    "    offset = (step * batch_size) % (y_train.shape[0] - batch_size)\n",
    "    # Generate a minibatch.\n",
    "    x_batch = x_train[offset:(offset + batch_size), :].reshape(batch_size, image_size * image_size)\n",
    "    y_batch = y_train[offset:(offset + batch_size), :]\n",
    "    # Prepare a dictionary telling the session where to feed the minibatch.\n",
    "    # The key of the dictionary is the placeholder node of the graph to be fed,\n",
    "    # and the value is the numpy array to feed to it.\n",
    "    feed_dict = {\n",
    "      tf_x_batch : x_batch, \n",
    "      tf_y_batch : y_batch\n",
    "    }\n",
    "    _, l, predictions = session.run(\n",
    "      [optimizer, loss, output], \n",
    "      feed_dict = feed_dict\n",
    "    )\n",
    "\n",
    "    train_loss[step] = calc_loss(p_train.eval(), y_train)\n",
    "    valid_loss[step] = calc_loss(p_valid.eval(), y_val)\n",
    "    global_step = step\n",
    "    if (step % 500 == 0):\n",
    "      print(\"--------- STEP %4d/%d ---------\" % (step, num_steps))\n",
    "      print(\"  Minibatch loss: %.8f\" % (l))\n",
    "      print(\"      Train loss: %.8f\" % (train_loss[step]))\n",
    "      print(\" Validation loss: %.8f\" % (valid_loss[step]))\n",
    "      print(\"            Time: \" + get_time_hhmmss(start))\n",
    "  print(\"===================================\")\n",
    "  print(\" Test score: %.3f\" % calc_score(p_test.eval(), y_test))  \n",
    "  print(\" Total time: \" + get_time_hhmmss(start))"
   ]
  },
  {
   "cell_type": "code",
   "execution_count": 325,
   "metadata": {
    "collapsed": false
   },
   "outputs": [
    {
     "data": {
      "image/png": "[encoded data removed]",
      "text/plain": [
       "<matplotlib.figure.Figure at 0x10cb87f98>"
      ]
     },
     "metadata": {},
     "output_type": "display_data"
    }
   ],
   "source": [
    "pyplot.plot(train_loss, linewidth=3, label=\"train\")\n",
    "pyplot.plot(valid_loss, linewidth=3, label=\"valid\")\n",
    "pyplot.grid()\n",
    "pyplot.legend()\n",
    "pyplot.xlabel(\"step\")\n",
    "pyplot.ylabel(\"loss\")\n",
    "pyplot.ylim(0.001, 0.1)\n",
    "#pyplot,xlim(0, 1000)\n",
    "pyplot.yscale(\"log\")\n",
    "pyplot.show()"
   ]
  },
  {
   "cell_type": "code",
   "execution_count": 163,
   "metadata": {
    "collapsed": true
   },
   "outputs": [],
   "source": [
    "a = np.ndarray(5)\n",
    "a[0] = 1\n",
    "a[1] = 5"
   ]
  },
  {
   "cell_type": "code",
   "execution_count": 256,
   "metadata": {
    "collapsed": false
   },
   "outputs": [
    {
     "name": "stdout",
     "output_type": "stream",
     "text": [
      "00:00:00\n"
     ]
    }
   ],
   "source": []
  },
  {
   "cell_type": "markdown",
   "metadata": {},
   "source": [
    "## Refactor"
   ]
  },
  {
   "cell_type": "code",
   "execution_count": 419,
   "metadata": {
    "collapsed": true
   },
   "outputs": [],
   "source": [
    "def layer_pass(input, shape):\n",
    "  weights = tf.get_variable( 'weights', \n",
    "    shape = shape,\n",
    "    initializer = tf.contrib.layers.xavier_initializer()\n",
    "  )\n",
    "  biases = tf.get_variable( 'biases',\n",
    "    shape = [shape[1]],\n",
    "    initializer=tf.constant_initializer(1.0)\n",
    "  )\n",
    "  return tf.matmul(input, weights) + biases"
   ]
  },
  {
   "cell_type": "code",
   "execution_count": 420,
   "metadata": {
    "collapsed": true
   },
   "outputs": [],
   "source": [
    "def model_pass(input):\n",
    "  with tf.variable_scope('hidden'):\n",
    "    hidden = layer_pass(input, [image_size * image_size, hidden_layer_size])\n",
    "  relu_hidden = tf.nn.relu(hidden)\n",
    "  with tf.variable_scope('out'):\n",
    "    output = layer_pass(relu_hidden, [hidden_layer_size, num_keypoints])\n",
    "  return output"
   ]
  },
  {
   "cell_type": "code",
   "execution_count": 421,
   "metadata": {
    "collapsed": false
   },
   "outputs": [],
   "source": [
    "batch_size = 128\n",
    "hidden_layer_size = 100\n",
    "l2_lambda = 0\n",
    "num_epochs = 100\n",
    "num_steps = int((y_train.shape[0] / batch_size) * num_epochs)\n",
    "learning_rate = 0.01\n",
    "momentum = 0.9\n",
    "\n",
    "graph = tf.Graph()\n",
    "with graph.as_default():\n",
    "# Input data. For the training data, we use a placeholder that will be fed at run time with a training minibatch.\n",
    "  tf_x_batch = tf.placeholder(tf.float32, shape = (batch_size, image_size * image_size))\n",
    "  tf_y_batch = tf.placeholder(tf.float32, shape = (batch_size, num_keypoints))\n",
    "\n",
    "  tf_x_valid = tf.constant(x_val.reshape(x_val.shape[0], image_size * image_size))\n",
    "  tf_x_test = tf.constant(x_test.reshape(x_test.shape[0], image_size * image_size))\n",
    "  tf_x_train = tf.constant(x_train.reshape(x_train.shape[0], image_size * image_size))\n",
    "  \n",
    "  global_step = tf.Variable(0)  # count the number of steps taken.\n",
    "\n",
    "# Model parameters.\n",
    "  #learning_rate = tf.train.exponential_decay(0.5, global_step, decay_steps = num_steps, decay_rate = 0.99)\n",
    "\n",
    "# Training computation.\n",
    "  with tf.variable_scope(\"single_hidden_layer_model\") as scope:\n",
    "    output = model_pass(tf_x_batch)\n",
    "\n",
    "    loss = tf.reduce_mean(tf.square(output - tf_y_batch)) # + l2_lambda * (tf.nn.l2_loss(weightsInToHid) + tf.nn.l2_loss(weightsHidToOut))  \n",
    "    \n",
    "# Optimizer.\n",
    "    optimizer = tf.train.MomentumOptimizer(\n",
    "        learning_rate = learning_rate, \n",
    "        momentum = momentum, \n",
    "        use_nesterov = True\n",
    "    ).minimize(\n",
    "        loss, \n",
    "        global_step = global_step\n",
    "    )\n",
    "\n",
    "# Predictions for the training, validation, and test data. \n",
    "    scope.reuse_variables()\n",
    "    p_train = model_pass(tf_x_train)  \n",
    "    p_valid = model_pass(tf_x_valid)  \n",
    "    p_test = model_pass(tf_x_test)"
   ]
  },
  {
   "cell_type": "code",
   "execution_count": 422,
   "metadata": {
    "collapsed": false,
    "scrolled": true
   },
   "outputs": [
    {
     "name": "stdout",
     "output_type": "stream",
     "text": [
      "Initialized\n",
      "--------- STEP    0/1170 ---------\n",
      "  Minibatch loss: 3.25463629\n",
      "      Train loss: 13.02572441\n",
      " Validation loss: 13.36141109\n",
      "            Time: 00:00:00\n",
      "--------- STEP  500/1170 ---------\n",
      "  Minibatch loss: 0.00618714\n",
      "      Train loss: 0.00625493\n",
      " Validation loss: 0.00653585\n",
      "            Time: 00:00:28\n",
      "--------- STEP 1000/1170 ---------\n",
      "  Minibatch loss: 0.00393933\n",
      "      Train loss: 0.00432126\n",
      " Validation loss: 0.00457749\n",
      "            Time: 00:00:57\n",
      "===================================\n",
      " Test score: 3.265\n",
      " Total time: 00:01:07\n"
     ]
    }
   ],
   "source": [
    "start = time.time()\n",
    "with tf.Session(graph = graph) as session:\n",
    "  tf.initialize_all_variables().run()\n",
    "  print(\"Initialized\")\n",
    "  train_loss = np.ndarray(num_steps)\n",
    "  valid_loss = np.ndarray(num_steps)\n",
    "  for step in range(num_steps):\n",
    "    # Pick an offset within the training data, which has been randomized.\n",
    "    # Note: we could use better randomization across epochs.\n",
    "    offset = (step * batch_size) % (y_train.shape[0] - batch_size)\n",
    "    # Generate a minibatch.\n",
    "    batch_data = x_train[offset:(offset + batch_size), :].reshape(batch_size, image_size * image_size)\n",
    "    batch_labels = y_train[offset:(offset + batch_size), :]\n",
    "    # Prepare a dictionary telling the session where to feed the minibatch.\n",
    "    # The key of the dictionary is the placeholder node of the graph to be fed,\n",
    "    # and the value is the numpy array to feed to it.\n",
    "    feed_dict = {\n",
    "      tf_x_batch : batch_data, \n",
    "      tf_y_batch : batch_labels\n",
    "    }\n",
    "    _, l, predictions = session.run(\n",
    "      [optimizer, loss, output], \n",
    "      feed_dict = feed_dict\n",
    "    )\n",
    "    train_loss[step] = calc_loss(p_train.eval(), y_train)\n",
    "    valid_loss[step] = calc_loss(p_valid.eval(), y_val)\n",
    "    global_step = step\n",
    "    if (step % 500 == 0):\n",
    "      print(\"--------- STEP %4d/%d ---------\" % (step, num_steps))\n",
    "      print(\"  Minibatch loss: %.8f\" % (l))\n",
    "      print(\"      Train loss: %.8f\" % (train_loss[step]))\n",
    "      print(\" Validation loss: %.8f\" % (valid_loss[step]))\n",
    "      print(\"            Time: \" + get_time_hhmmss(start))\n",
    "  print(\"===================================\")\n",
    "  print(\" Test score: %.3f\" % calc_score(p_test.eval(), y_test))  \n",
    "  print(\" Total time: \" + get_time_hhmmss(start))"
   ]
  },
  {
   "cell_type": "code",
   "execution_count": null,
   "metadata": {
    "collapsed": true
   },
   "outputs": [],
   "source": []
  }
 ],
 "metadata": {
  "anaconda-cloud": {},
  "kernelspec": {
   "display_name": "Python [default]",
   "language": "python",
   "name": "python3"
  },
  "language_info": {
   "codemirror_mode": {
    "name": "ipython",
    "version": 3
   },
   "file_extension": ".py",
   "mimetype": "text/x-python",
   "name": "python",
   "nbconvert_exporter": "python",
   "pygments_lexer": "ipython3",
   "version": "3.5.2"
  }
 },
 "nbformat": 4,
 "nbformat_minor": 0
}
